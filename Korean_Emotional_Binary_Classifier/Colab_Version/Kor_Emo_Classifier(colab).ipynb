{
  "nbformat": 4,
  "nbformat_minor": 0,
  "metadata": {
    "colab": {
      "provenance": [],
      "collapsed_sections": [
        "2t8t4DgxDMh5",
        "rSupsPhoDOon"
      ]
    },
    "kernelspec": {
      "name": "python3",
      "display_name": "Python 3"
    },
    "language_info": {
      "name": "python"
    },
    "accelerator": "GPU",
    "gpuClass": "standard"
  },
  "cells": [
    {
      "cell_type": "markdown",
      "source": [
        "# 패턴인식 설계 과제\n",
        "# <한국어 문장 긍정,부정문 이진분류>\n",
        "## 단국대학교 컴퓨터공학과 \n",
        "## 32184074 정민준\n",
        "jmj284@gmail.com<br> \n",
        "010-9391-0801\n",
        "\n",
        "# <모델 사용 및 평가 코드>\n",
        "\n",
        "## <학습 및 테스트 환경> <br>\n",
        "본 프로그램은 'Google Colab' 환경에서 작성 되었습니다.<br>\n",
        "플랫폼: 'Goolge Colab'<br> \n",
        "GPU: Tesla T4<br> \n",
        "GPU API: CUDA<br>\n",
        "<br>사용한 언어 및 라이브러리는 아래와 같습니다.\n",
        "<br>\n",
        "\n",
        "## <언어> <br>\n",
        "\n",
        "###1. python3\n",
        "Version: 3.7.14 (default, Sep  8 2022, 00:06:44)<br>\n",
        "GCC 7.5.0<br>\n",
        "\n",
        "## <라이브러리> <br>\n",
        "\n",
        "###1. transformers\n",
        "Version: 4.23.1<br> \n",
        "License: Apache<br>\n",
        "\n",
        "###2. torch\n",
        "Version: 1.12.1+cu113<br>\n",
        "License: BSD-3<br>\n",
        "\n",
        "###3. tensorflow)<br>\n",
        "Version: 2.9.2<br>\n",
        "License: Apache 2.0<br>\n",
        "\n",
        "###4. keras\n",
        "Version: 2.9.0<br>\n",
        "License: Apache 2.0<br>\n",
        "\n",
        "###5. scikit-learn\n",
        "Version: 1.0.2<br>\n",
        "License: new BSD<br>\n",
        "\n",
        "###6. pandas\n",
        "Version: 1.3.5<br> \n",
        "License: BSD-3-Clause<br>\n",
        "\n",
        "###7. numpy\n",
        "Version: 1.21.6<br>\n",
        "License: BSD<br>\n",
        "\n",
        "###8. matplotlib\n",
        "Version: 3.2.2<br> \n",
        "License: PSF<br>\n",
        "\n",
        "## <사전학습모델> \n",
        "KoBERT-Transfomers<br>\n",
        "License: Apache 2.0\n",
        "\n",
        "## <참고자료>\n",
        "\n",
        "1. https://mccormickml.com/2019/07/22/BERT-fine-tuning/\n",
        "\n",
        "2. https://github.com/monologg/KoBERT-Transformers/blob/master/kobert_transformers/tokenization_kobert.py\n",
        "\n",
        "3. https://velog.io/@seolini43/일상연애-주제의-한국어-대화-BERT로-이진-분류-모델-만들기파이썬Colab-코드"
      ],
      "metadata": {
        "id": "NG6sz9YzIvxh"
      }
    },
    {
      "cell_type": "markdown",
      "source": [
        "# 사용법\n",
        "\n",
        "1. 모델 호출 및 설정은 반드시 먼저 실행합니다.<br>(모델 사용에 필요한 모델 및 라이브러리 호출)\n",
        "\n",
        "2. '문장 입력' 기능은 사용자가 입력한 문장을 긍정 혹은 부정으로 출력해줍니다.\n",
        "\n",
        "3. '파일 처리' 기능은 규격에 맞는 csv 데이터를 분류 및 처리해서 result.csv로 반환합니다.<br> (데이터는 Sentences(String) 으로 이루어져야함)\n",
        "\n",
        "4. '모델 평가' 기능은 규격에 맞는 csv 데이터로 모델을 평가후 ACC, AUC Score, 처리시간, Roc Curve를 반환합니다.<br>\n",
        "(데이터는 Sentences(String), Emotions(0,1) 으로 이루어져야함)\n"
      ],
      "metadata": {
        "id": "IZix9w3Rr732"
      }
    },
    {
      "cell_type": "markdown",
      "source": [
        "# 모델 호출 및 설정"
      ],
      "metadata": {
        "id": "2t8t4DgxDMh5"
      }
    },
    {
      "cell_type": "code",
      "execution_count": null,
      "metadata": {
        "colab": {
          "base_uri": "https://localhost:8080/"
        },
        "id": "Xo3groAXC68n",
        "outputId": "a7fdec13-978d-457f-888f-1bf69173cfa1"
      },
      "outputs": [
        {
          "output_type": "stream",
          "name": "stdout",
          "text": [
            "Installing collected packages: sentencepiece, kobert-transformers\n",
            "Successfully installed kobert-transformers-0.5.1 sentencepiece-0.1.97\n"
          ]
        }
      ],
      "source": [
        "!pip install mxnet\n",
        "!pip install gluonnlp pandas tqdm\n",
        "!pip install sentencepiece\n",
        "!pip install transformers\n",
        "!pip install torch\n",
        "!pip3 install kobert-transformers"
      ]
    },
    {
      "cell_type": "code",
      "source": [
        "import tensorflow as tf\n",
        "import torch\n",
        "\n",
        "from transformers import BertTokenizer\n",
        "from transformers import BertForSequenceClassification, AdamW, BertConfig\n",
        "from transformers import get_linear_schedule_with_warmup\n",
        "from torch.utils.data import TensorDataset, DataLoader, RandomSampler, SequentialSampler\n",
        "from keras_preprocessing.sequence import pad_sequences\n",
        "from sklearn.model_selection import train_test_split\n",
        "import matplotlib.pyplot as plt\n",
        "\n",
        "import pandas as pd\n",
        "from transformers import BertTokenizer\n",
        "import csv\n",
        "import numpy as np\n",
        "import random\n",
        "import time\n",
        "import datetime"
      ],
      "metadata": {
        "id": "Vl4SqEZxDCIP"
      },
      "execution_count": null,
      "outputs": []
    },
    {
      "cell_type": "code",
      "source": [
        "# GPU 확인하기\n",
        "n_devices = torch.cuda.device_count()\n",
        "print(n_devices)\n",
        "\n",
        "for i in range(n_devices):\n",
        "    print(torch.cuda.get_device_name(i))"
      ],
      "metadata": {
        "colab": {
          "base_uri": "https://localhost:8080/"
        },
        "id": "9Dmfy-PEDC3v",
        "outputId": "9b152647-00dc-46e9-913a-52e1befb2429"
      },
      "execution_count": null,
      "outputs": [
        {
          "output_type": "stream",
          "name": "stdout",
          "text": [
            "1\n",
            "Tesla T4\n"
          ]
        }
      ]
    },
    {
      "cell_type": "code",
      "source": [
        "#코랩 환경에서 gpu 사용가능 여부를 판별 및 device 할당 위해서 사용\n",
        "\n",
        "if torch.cuda.is_available():    \n",
        "    device = torch.device(\"cuda\")\n",
        "    print('There are %d GPU(s) available.' % torch.cuda.device_count())\n",
        "    print('We will use the GPU:', torch.cuda.get_device_name(0))\n",
        "else:\n",
        "    device = torch.device(\"cpu\")\n",
        "    print('No GPU available, using the CPU instead.')"
      ],
      "metadata": {
        "id": "Zjs4EEp2KenA",
        "colab": {
          "base_uri": "https://localhost:8080/"
        },
        "outputId": "1a5e288c-4b9c-4e72-981a-5027829ee76e"
      },
      "execution_count": null,
      "outputs": [
        {
          "output_type": "stream",
          "name": "stdout",
          "text": [
            "There are 1 GPU(s) available.\n",
            "We will use the GPU: Tesla T4\n"
          ]
        }
      ]
    },
    {
      "cell_type": "code",
      "source": [
        "#코랩 환경에서 구글 드라이브 사용시 마운트 필요, 불필요 혹은 오류 발생시 주석 처리 후 실행\n",
        "from google.colab import drive\n",
        "drive.mount('/drive')"
      ],
      "metadata": {
        "colab": {
          "base_uri": "https://localhost:8080/"
        },
        "id": "7Z-3nedqDEPY",
        "outputId": "d47e4365-e1ef-4000-de41-05a735470146"
      },
      "execution_count": null,
      "outputs": [
        {
          "output_type": "stream",
          "name": "stdout",
          "text": [
            "Mounted at /drive\n"
          ]
        }
      ]
    },
    {
      "cell_type": "code",
      "source": [
        "from kobert_transformers import get_tokenizer\n",
        "tokenizer = get_tokenizer()\n",
        "\n",
        "model = BertForSequenceClassification.from_pretrained('/drive/MyDrive/P_OR_N_MODEL')\n",
        "model.cuda()"
      ],
      "metadata": {
        "id": "Q4KNml3oLwOC"
      },
      "execution_count": null,
      "outputs": []
    },
    {
      "cell_type": "markdown",
      "source": [
        "# 문장 입력"
      ],
      "metadata": {
        "id": "2rOj5u-7KXKm"
      }
    },
    {
      "cell_type": "code",
      "source": [
        "#시그모이드\n",
        "def sigmoid(x): \n",
        "    return 1.0/(1 + np.exp(-x))\n",
        "\n",
        "def flat_accuracy(preds, labels):\n",
        "    \n",
        "    pred_flat = np.argmax(preds, axis=1).flatten()\n",
        "    labels_flat = labels.flatten()\n",
        "\n",
        "    return np.sum(pred_flat == labels_flat) / len(labels_flat)\n",
        "\n",
        "def format_time(elapsed):\n",
        "\n",
        "    # 반올림\n",
        "    elapsed_rounded = int(round((elapsed)))\n",
        "    \n",
        "    # hh:mm:ss으로 형태 변경\n",
        "    return str(datetime.timedelta(seconds=elapsed_rounded))\n",
        "\n",
        "\n",
        "test_ans = [] #모델의 결과 저장\n",
        "test_prob = [] #가능성 저장\n",
        "\n",
        "#시작 시간 설정\n",
        "t0 = time.time()\n",
        "\n",
        "#테스트셋 데이터 전처리\n",
        "def convert_input_data(sentences):\n",
        "    sentences = [\"[CLS] \" + str(sentences) + \" [SEP]\"]\n",
        "\n",
        "    # BERT의 토크나이저로 문장을 토큰으로 분리\n",
        "    tokenized_texts = [tokenizer.tokenize(sent) for sent in sentences]\n",
        "\n",
        "    # 입력 토큰의 최대 시퀀스 길이\n",
        "    MAX_LEN = 150\n",
        "\n",
        "    # 토큰을 숫자 인덱스로 변환\n",
        "    input_ids = [tokenizer.convert_tokens_to_ids(x) for x in tokenized_texts]\n",
        "    \n",
        "    # 문장을 MAX_LEN 길이에 맞게 자르고, 모자란 부분을 패딩 0으로 채움\n",
        "    input_ids = pad_sequences(input_ids, maxlen=MAX_LEN, dtype=\"long\", truncating=\"post\", padding=\"post\")\n",
        "\n",
        "    # 어텐션 마스크 초기화\n",
        "    attention_masks = []\n",
        "\n",
        "    # 어텐션 마스크를 패딩이 아니면 1, 패딩이면 0으로 설정\n",
        "    # 패딩 부분은 BERT 모델에서 어텐션을 수행하지 않아 속도 향상\n",
        "    for seq in input_ids:\n",
        "        seq_mask = [float(i>0) for i in seq]\n",
        "        attention_masks.append(seq_mask)\n",
        "\n",
        "    # 데이터를 파이토치의 텐서로 변환\n",
        "    inputs = torch.tensor(input_ids)\n",
        "    masks = torch.tensor(attention_masks)\n",
        "\n",
        "    return inputs, masks\n",
        "\n",
        "#모델 사용\n",
        "def Emotion_Binary_Classification(sentences):\n",
        "\n",
        "    # 평가모드로 변경\n",
        "    model.eval()\n",
        "\n",
        "    # 문장을 입력 데이터로 변환\n",
        "    inputs, masks = convert_input_data(sentences)\n",
        "\n",
        "    # 데이터를 GPU에 넣음\n",
        "    b_input_ids = inputs.to(device)\n",
        "    b_input_mask = masks.to(device)\n",
        "            \n",
        "    # 그래디언트 계산 안함\n",
        "    with torch.no_grad():     \n",
        "        # Forward 수행\n",
        "        outputs = model(b_input_ids, \n",
        "                        token_type_ids=None, \n",
        "                        attention_mask=b_input_mask)\n",
        "\n",
        "    # 로스 구함\n",
        "    logits = outputs[0]\n",
        "\n",
        "    # CPU로 데이터 이동\n",
        "    logits = logits.detach().cpu().numpy()\n",
        "    \n",
        "    #시그모이드 함수, 확률 판단\n",
        "    pred = sigmoid(logits)\n",
        "    \n",
        "    #결과 판단\n",
        "    result = np.argmax(pred)\n",
        "\n",
        "    return [result,pred]\n"
      ],
      "metadata": {
        "id": "MeuqqfCgKloD"
      },
      "execution_count": null,
      "outputs": []
    },
    {
      "cell_type": "code",
      "source": [
        "s = input(\"감정을 분류할 문장을 입력하세요: \")\n",
        "a,p = Emotion_Binary_Classification(s)\n",
        "\n",
        "if a == 0:\n",
        "  print('\"',s,'\"',\"는 부정문입니다.\")\n",
        "else:\n",
        "  print('\"',s,'\"',\"는 긍정문입니다.\")  "
      ],
      "metadata": {
        "id": "nmiRH-qOKtaI",
        "colab": {
          "base_uri": "https://localhost:8080/"
        },
        "outputId": "e47fd978-7b63-4813-dcb5-841dcaf4134e"
      },
      "execution_count": null,
      "outputs": [
        {
          "output_type": "stream",
          "name": "stdout",
          "text": [
            "감정을 분류할 문장을 입력하세요: 너 진짜 짜증나\n",
            "\" 너 진짜 짜증나 \" 는 부정문입니다.\n"
          ]
        }
      ]
    },
    {
      "cell_type": "markdown",
      "source": [
        "# 파일 처리(csv)"
      ],
      "metadata": {
        "id": "5GKJw-eTluxD"
      }
    },
    {
      "cell_type": "code",
      "source": [
        "#시그모이드\n",
        "def sigmoid(x): \n",
        "    return 1.0/(1 + np.exp(-x))\n",
        "\n",
        "def flat_accuracy(preds, labels):\n",
        "    \n",
        "    pred_flat = np.argmax(preds, axis=1).flatten()\n",
        "    labels_flat = labels.flatten()\n",
        "\n",
        "    return np.sum(pred_flat == labels_flat) / len(labels_flat)\n",
        "\n",
        "def format_time(elapsed):\n",
        "\n",
        "    # 반올림\n",
        "    elapsed_rounded = int(round((elapsed)))\n",
        "    \n",
        "    # hh:mm:ss으로 형태 변경\n",
        "    return str(datetime.timedelta(seconds=elapsed_rounded))\n",
        "\n",
        "\n",
        "test_ans = [] #모델의 결과 저장\n",
        "test_prob = [] #가능성 저장\n",
        "\n",
        "#시작 시간 설정\n",
        "t0 = time.time()\n",
        "\n",
        "#테스트셋 데이터 전처리\n",
        "def convert_input_data(sentences):\n",
        "    sentences = [\"[CLS] \" + str(sentences) + \" [SEP]\"]\n",
        "\n",
        "    # BERT의 토크나이저로 문장을 토큰으로 분리\n",
        "    tokenized_texts = [tokenizer.tokenize(sent) for sent in sentences]\n",
        "\n",
        "    # 입력 토큰의 최대 시퀀스 길이\n",
        "    MAX_LEN = 150\n",
        "\n",
        "    # 토큰을 숫자 인덱스로 변환\n",
        "    input_ids = [tokenizer.convert_tokens_to_ids(x) for x in tokenized_texts]\n",
        "    \n",
        "    # 문장을 MAX_LEN 길이에 맞게 자르고, 모자란 부분을 패딩 0으로 채움\n",
        "    input_ids = pad_sequences(input_ids, maxlen=MAX_LEN, dtype=\"long\", truncating=\"post\", padding=\"post\")\n",
        "\n",
        "    # 어텐션 마스크 초기화\n",
        "    attention_masks = []\n",
        "\n",
        "    # 어텐션 마스크를 패딩이 아니면 1, 패딩이면 0으로 설정\n",
        "    # 패딩 부분은 BERT 모델에서 어텐션을 수행하지 않아 속도 향상\n",
        "    for seq in input_ids:\n",
        "        seq_mask = [float(i>0) for i in seq]\n",
        "        attention_masks.append(seq_mask)\n",
        "\n",
        "    # 데이터를 파이토치의 텐서로 변환\n",
        "    inputs = torch.tensor(input_ids)\n",
        "    masks = torch.tensor(attention_masks)\n",
        "\n",
        "    return inputs, masks\n",
        "\n",
        "#모델 사용\n",
        "def Emotion_Binary_Classification(sentences):\n",
        "\n",
        "    # 평가모드로 변경\n",
        "    model.eval()\n",
        "\n",
        "    # 문장을 입력 데이터로 변환\n",
        "    inputs, masks = convert_input_data(sentences)\n",
        "\n",
        "    # 데이터를 GPU에 넣음\n",
        "    b_input_ids = inputs.to(device)\n",
        "    b_input_mask = masks.to(device)\n",
        "            \n",
        "    # 그래디언트 계산 안함\n",
        "    with torch.no_grad():     \n",
        "        # Forward 수행\n",
        "        outputs = model(b_input_ids, \n",
        "                        token_type_ids=None, \n",
        "                        attention_mask=b_input_mask)\n",
        "\n",
        "    # 로스 구함\n",
        "    logits = outputs[0]\n",
        "\n",
        "    # CPU로 데이터 이동\n",
        "    logits = logits.detach().cpu().numpy()\n",
        "    \n",
        "    #시그모이드 함수, 확률 판단\n",
        "    pred = sigmoid(logits)\n",
        "    \n",
        "    #결과 판단\n",
        "    result = np.argmax(pred)\n",
        "\n",
        "    return [result,pred]"
      ],
      "metadata": {
        "id": "7Av0_k_smlke"
      },
      "execution_count": 12,
      "outputs": []
    },
    {
      "cell_type": "code",
      "source": [
        "import csv\n",
        "\n",
        "df = pd.DataFrame([],columns=['Sentences','Emotions'])\n",
        "\n",
        "path = input(\"분류할 csv 파일의 경로를 입력하세요:\")\n",
        "print(\"ex: /drive/MyDrive/kor_bin_data/test_data.csv\")\n",
        "csv_test = pd.read_csv(path,encoding=\"utf-8\")\n",
        "\n",
        "for i in range(len(csv_test)):\n",
        "  r,p = Emotion_Binary_Classification(csv_test['Sentences'][i])\n",
        "  df.loc[i] = [csv_test['Sentences'][i],r]\n",
        "\n",
        "df.to_csv('./result.csv')\n",
        "print(\"분류 및 저장 완료!(./result.csv)\")"
      ],
      "metadata": {
        "colab": {
          "base_uri": "https://localhost:8080/"
        },
        "id": "kgfHU3g2mD6l",
        "outputId": "6a0836b0-24a9-464a-924b-df7e382d2bd3"
      },
      "execution_count": 14,
      "outputs": [
        {
          "name": "stdout",
          "output_type": "stream",
          "text": [
            "분류할 csv 파일의 경로를 입력하세요:/drive/MyDrive/kor_bin_data/test_data.csv\n"
          ]
        }
      ]
    },
    {
      "cell_type": "markdown",
      "source": [
        "# 모델 평가"
      ],
      "metadata": {
        "id": "rSupsPhoDOon"
      }
    },
    {
      "cell_type": "code",
      "source": [
        "# 정확도 계산 함수\n",
        "def flat_accuracy(preds, labels):\n",
        "    \n",
        "    pred_flat = np.argmax(preds, axis=1).flatten()\n",
        "    labels_flat = labels.flatten()\n",
        "\n",
        "    return np.sum(pred_flat == labels_flat) / len(labels_flat)\n",
        "    \n",
        "    \n",
        "# 시간 표시 함수\n",
        "def format_time(elapsed):\n",
        "\n",
        "    # 반올림\n",
        "    elapsed_rounded = int(round((elapsed)))\n",
        "    \n",
        "    # hh:mm:ss으로 형태 변경\n",
        "    return str(datetime.timedelta(seconds=elapsed_rounded))"
      ],
      "metadata": {
        "id": "5VFoTd0cDRCE"
      },
      "execution_count": 15,
      "outputs": []
    },
    {
      "cell_type": "code",
      "source": [
        "#시그모이드\n",
        "def sigmoid(x): \n",
        "    return 1.0/(1 + np.exp(-x))\n",
        "\n",
        "def flat_accuracy(preds, labels):\n",
        "    \n",
        "    pred_flat = np.argmax(preds, axis=1).flatten()\n",
        "    labels_flat = labels.flatten()\n",
        "\n",
        "    return np.sum(pred_flat == labels_flat) / len(labels_flat)\n",
        "\n",
        "def format_time(elapsed):\n",
        "\n",
        "    # 반올림\n",
        "    elapsed_rounded = int(round((elapsed)))\n",
        "    \n",
        "    # hh:mm:ss으로 형태 변경\n",
        "    return str(datetime.timedelta(seconds=elapsed_rounded))\n",
        "\n",
        "\n",
        "#테스트셋 데이터 전처리\n",
        "def convert_input_data(sentences):\n",
        "    sentences = [\"[CLS] \" + str(sentences) + \" [SEP]\"]\n",
        "\n",
        "    # BERT의 토크나이저로 문장을 토큰으로 분리\n",
        "    tokenized_texts = [tokenizer.tokenize(sent) for sent in sentences]\n",
        "\n",
        "    # 입력 토큰의 최대 시퀀스 길이\n",
        "    MAX_LEN = 150\n",
        "\n",
        "    # 토큰을 숫자 인덱스로 변환\n",
        "    input_ids = [tokenizer.convert_tokens_to_ids(x) for x in tokenized_texts]\n",
        "    \n",
        "    # 문장을 MAX_LEN 길이에 맞게 자르고, 모자란 부분을 패딩 0으로 채움\n",
        "    input_ids = pad_sequences(input_ids, maxlen=MAX_LEN, dtype=\"long\", truncating=\"post\", padding=\"post\")\n",
        "\n",
        "    # 어텐션 마스크 초기화\n",
        "    attention_masks = []\n",
        "\n",
        "    # 어텐션 마스크를 패딩이 아니면 1, 패딩이면 0으로 설정\n",
        "    # 패딩 부분은 BERT 모델에서 어텐션을 수행하지 않아 속도 향상\n",
        "    for seq in input_ids:\n",
        "        seq_mask = [float(i>0) for i in seq]\n",
        "        attention_masks.append(seq_mask)\n",
        "\n",
        "    # 데이터를 파이토치의 텐서로 변환\n",
        "    inputs = torch.tensor(input_ids)\n",
        "    masks = torch.tensor(attention_masks)\n",
        "\n",
        "    return inputs, masks\n",
        "\n",
        "#모델 사용\n",
        "def Determining_Acute_Ischemic_Stroke(sentences):\n",
        "\n",
        "    # 평가모드로 변경\n",
        "    model.eval()\n",
        "\n",
        "    # 문장을 입력 데이터로 변환\n",
        "    inputs, masks = convert_input_data(sentences)\n",
        "\n",
        "    # 데이터를 GPU에 넣음\n",
        "    b_input_ids = inputs.to(device)\n",
        "    b_input_mask = masks.to(device)\n",
        "            \n",
        "    # 그래디언트 계산 안함\n",
        "    with torch.no_grad():     \n",
        "        # Forward 수행\n",
        "        outputs = model(b_input_ids, \n",
        "                        token_type_ids=None, \n",
        "                        attention_mask=b_input_mask)\n",
        "\n",
        "    # 로스 구함\n",
        "    logits = outputs[0]\n",
        "\n",
        "    # CPU로 데이터 이동\n",
        "    logits = logits.detach().cpu().numpy()\n",
        "    \n",
        "    #시그모이드 함수, 확률 판단\n",
        "    pred = sigmoid(logits)\n",
        "    \n",
        "    #결과 판단\n",
        "    result = np.argmax(pred)\n",
        "\n",
        "    return [result,pred]\n"
      ],
      "metadata": {
        "colab": {
          "base_uri": "https://localhost:8080/"
        },
        "id": "IncA1lgfDTNe",
        "outputId": "58e4ec87-29c8-4970-8664-25b7028f47b6"
      },
      "execution_count": 22,
      "outputs": [
        {
          "output_type": "stream",
          "name": "stdout",
          "text": [
            "분류에 소요된 시간: 0:00:00\n"
          ]
        }
      ]
    },
    {
      "cell_type": "code",
      "source": [
        "path = input(\"모델 평가에 사용할 csv 파일의 경로를 입력하세요:\")\n",
        "print(\"ex: /drive/MyDrive/kor_bin_data/test_data.csv\")\n",
        "csv_eval = pd.read_csv(path,encoding=\"utf-8\")\n",
        "\n",
        "#이진 분류 결과(0 or 1)이 담길 정답 리스트\n",
        "test_ans = []\n",
        "\n",
        "#이진 분류 결과의 확률([0~1,0~1])이 담길 정답 리스트\n",
        "test_prob = []\n",
        "\n",
        "#입력 데이터\n",
        "d = csv_eval.Sentences\n",
        "d.reset_index(drop=True, inplace=True)\n",
        "\n",
        "#실제 정답 \n",
        "labels = csv_eval.Emotions\n",
        "\n",
        "#시작 시간 설정\n",
        "t0 = time.time()\n",
        "\n",
        "for i in range(len(d)):\n",
        "  #함수 호출, 이진분류 결과는 a, 확률은 p\n",
        "  a,p = Determining_Acute_Ischemic_Stroke(d[i])\n",
        "  test_ans.append(a) #결과 값은 test_ans에 저장\n",
        "  test_prob.append(p) #확률 값은 test_prob에 저장\n",
        "\n",
        "#소요된 시간 저장\n",
        "pt = format(format_time(time.time() - t0))"
      ],
      "metadata": {
        "colab": {
          "base_uri": "https://localhost:8080/"
        },
        "id": "QYEiDTEeoilK",
        "outputId": "dfca313e-f6c6-48c7-f58f-e54a1f69596f"
      },
      "execution_count": 24,
      "outputs": [
        {
          "output_type": "stream",
          "name": "stdout",
          "text": [
            "모델 평가에 사용할 csv 파일의 경로를 입력하세요:/drive/MyDrive/kor_bin_data/test_data.csv\n",
            "ex: /drive/MyDrive/kor_bin_data/test_data.csv\n",
            "분류에 소요된 시간: 0:02:54\n"
          ]
        }
      ]
    },
    {
      "cell_type": "code",
      "source": [
        "from sklearn.metrics import roc_curve, roc_auc_score\n",
        "import matplotlib.pyplot as plt\n",
        "\n",
        "#probabilty중 정답이 1일 확률이 담길 리스트 \n",
        "t_prob =[]\n",
        "\n",
        "print('총 테스트 데이터의 수:',len(test_prob))\n",
        "print(\"분류에 소요된 시간:\",pt)\n",
        "\n",
        "\n",
        "#probabilty중 정답이 1일 확률(model.predict_proba() 와 동일)\n",
        "for i in test_prob:\n",
        "  t_prob.append(i[0][1])\n",
        "\n",
        "cnt = 0\n",
        "for i in range(len(test_ans)):\n",
        "  if test_ans[i] == labels[i]:\n",
        "      cnt += 1\n",
        "\n",
        "print('Accuracy :',round(cnt/len(test_ans),6))      \n",
        "# roc_curve 그래프 그리기\n",
        "fpr, tpr, thresholds = roc_curve(labels, t_prob)\n",
        "\n",
        "roc = pd.DataFrame({'FPR(Fall-out)': fpr, 'TPRate(Recall)': tpr, 'Threshold': thresholds})\n",
        "\n",
        "plt.scatter(fpr, tpr)\n",
        "plt.title('model ROC curve')\n",
        "plt.xlabel('FPR(Fall-out)')\n",
        "plt.ylabel('TPR(Recall)');\n",
        "plt.plot(fpr, tpr, 'r--')\n",
        "\n",
        "optimal_idx = np.argmax(tpr - fpr)\n",
        "optimal_threshold = thresholds[optimal_idx]\n",
        "\n",
        "# 최적의 threshold\n",
        "#print('idx:',optimal_idx, 'threshold:', optimal_threshold)\n",
        "\n",
        "# AUC 면적 구하기\n",
        "auc_score = roc_auc_score(labels, t_prob)\n",
        "print('AUC Score:',round(auc_score,6))\n",
        "print()"
      ],
      "metadata": {
        "colab": {
          "base_uri": "https://localhost:8080/",
          "height": 379
        },
        "id": "yMTy8HbMDWgH",
        "outputId": "5eb70bbf-0cbb-4e15-d787-2d8faf88d068"
      },
      "execution_count": 27,
      "outputs": [
        {
          "output_type": "stream",
          "name": "stdout",
          "text": [
            "총 테스트 데이터의 수: 9113\n",
            "분류에 소요된 시간: 0:02:54\n",
            "Accuracy : 0.898167\n",
            "AUC Score: 0.955392\n",
            "\n"
          ]
        },
        {
          "output_type": "display_data",
          "data": {
            "text/plain": [
              "<Figure size 432x288 with 1 Axes>"
            ],
            "image/png": "[encoded data removed]"
          },
          "metadata": {
            "needs_background": "light"
          }
        }
      ]
    }
  ]
}